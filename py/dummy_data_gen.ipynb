{
 "cells": [
  {
   "cell_type": "code",
   "execution_count": 17,
   "id": "forced-cookie",
   "metadata": {},
   "outputs": [],
   "source": [
    "# 必要なモジュールのインポート\n",
    "import matplotlib.pyplot as plt\n",
    "\n",
    "from dataclasses import dataclass\n",
    "from mimesis import Generic\n",
    "from mimesis import Person as Personal\n",
    "from mimesis.locales import Locale\n",
    "from mimesis.providers.base import BaseProvider\n",
    "from typing import Dict, Generator, List"
   ]
  },
  {
   "cell_type": "code",
   "execution_count": 2,
   "id": "transsexual-entity",
   "metadata": {},
   "outputs": [],
   "source": [
    "# メソッドの確認\n",
    "def view_methods(module) -> None:\n",
    "    attrs = dir(module)\n",
    "    \n",
    "    print(f\"List of methods of {module.__module__}\")\n",
    "    print(\"<method_name> : <method_type>\")\n",
    "    print()\n",
    "    \n",
    "    for method in attrs:\n",
    "        # type(getattr(x, y) implies type(x.y)\n",
    "        method_type = type(getattr(module, method))\n",
    "        \n",
    "        print(f\"{method} : {method_type}\")\n",
    "    \n",
    "    return"
   ]
  },
  {
   "cell_type": "code",
   "execution_count": 67,
   "id": "active-carroll",
   "metadata": {},
   "outputs": [],
   "source": [
    "# 日本語バージョン\n",
    "# locale = Locale.JA\n",
    "\n",
    "# 英語バージョン\n",
    "locale = Locale.EN\n",
    "\n",
    "provider = Generic(locale=locale)"
   ]
  },
  {
   "cell_type": "code",
   "execution_count": 84,
   "id": "streaming-spouse",
   "metadata": {},
   "outputs": [],
   "source": [
    "@dataclass\n",
    "class Consumer(object):\n",
    "    genre_preference: Dict[str, float]\n",
    "    status: str\n",
    "    motivation: float\n",
    "    consume_type: str\n",
    "    # can_view: int\n",
    "    richness: float\n",
    "    busyness: float\n",
    "\n",
    "\n",
    "@dataclass\n",
    "class Movie(object):\n",
    "    genre: str\n",
    "    target: str\n",
    "    promo_cost: int\n",
    "    bloadcast_day: int\n",
    "    title: int = None"
   ]
  },
  {
   "cell_type": "code",
   "execution_count": 69,
   "id": "sacred-methodology",
   "metadata": {},
   "outputs": [],
   "source": [
    "GENRES = [\n",
    "    'documentary', 'horror', 'fantasy', 'anime', \n",
    "    'sf', 'comedy', 'drama', 'action_adventure',\n",
    "]"
   ]
  },
  {
   "cell_type": "code",
   "execution_count": 70,
   "id": "immune-license",
   "metadata": {},
   "outputs": [],
   "source": [
    "TARGET = [\n",
    "    'student', 'society', 'family'\n",
    "]"
   ]
  },
  {
   "cell_type": "code",
   "execution_count": 71,
   "id": "tracked-harris",
   "metadata": {},
   "outputs": [],
   "source": [
    "CUSTOMER_TYPE_RATIO = {\n",
    "        'initial_user': 0.16,\n",
    "        'pre_user': 0.34,\n",
    "        'after_user': 0.34,\n",
    "        'late_user': 0.16,\n",
    "    }"
   ]
  },
  {
   "cell_type": "code",
   "execution_count": 72,
   "id": "decreased-smile",
   "metadata": {},
   "outputs": [],
   "source": [
    "class Product(BaseProvider):\n",
    "    def __init__(self, seed):\n",
    "        super().__init__(seed=seed)\n",
    "        \n",
    "    def genre(self) -> str:\n",
    "        return self.random.choice(GENRES)\n",
    "    \n",
    "    def target(self) -> str:\n",
    "        return self.random.choice(TARGET)"
   ]
  },
  {
   "cell_type": "code",
   "execution_count": 73,
   "id": "convertible-angle",
   "metadata": {},
   "outputs": [],
   "source": [
    "class Person(Personal):\n",
    "    def __init__(self, seed):\n",
    "        super().__init__(seed=seed)\n",
    "    \n",
    "    def category(self) -> str:\n",
    "        customer_types = list(CUSTOMER_TYPE_RATIO.keys())\n",
    "        weights = CUSTOMER_TYPE_RATIO.values()\n",
    "        \n",
    "        customer_type = self.random.choices(customer_types, weights=weights)[0]\n",
    "        \n",
    "        return customer_type"
   ]
  },
  {
   "cell_type": "code",
   "execution_count": 74,
   "id": "concrete-grass",
   "metadata": {},
   "outputs": [],
   "source": [
    "provider.add_providers(\n",
    "    Product,\n",
    "    Person,\n",
    ")"
   ]
  },
  {
   "cell_type": "code",
   "execution_count": 75,
   "id": "pleased-pontiac",
   "metadata": {},
   "outputs": [
    {
     "data": {
      "text/plain": [
       "'Melissia'"
      ]
     },
     "execution_count": 75,
     "metadata": {},
     "output_type": "execute_result"
    }
   ],
   "source": [
    "provider.person.name()"
   ]
  },
  {
   "cell_type": "code",
   "execution_count": 76,
   "id": "stuffed-gauge",
   "metadata": {},
   "outputs": [
    {
     "data": {
      "text/plain": [
       "'society'"
      ]
     },
     "execution_count": 76,
     "metadata": {},
     "output_type": "execute_result"
    }
   ],
   "source": [
    "provider.product.target()"
   ]
  },
  {
   "cell_type": "code",
   "execution_count": 77,
   "id": "hungry-wallet",
   "metadata": {},
   "outputs": [],
   "source": [
    "MIN_COST = 1\n",
    "MAX_COST = 100"
   ]
  },
  {
   "cell_type": "code",
   "execution_count": 98,
   "id": "neutral-indication",
   "metadata": {},
   "outputs": [],
   "source": [
    "def generate_consumers(n_consumers: int) -> Generator[Consumer, None, None]:\n",
    "    consumer_type = provider.person.category\n",
    "    richness = provider.finance.price\n",
    "    status = provider.product.target\n",
    "    random = provider.random\n",
    "    \n",
    "    for _ in range(n_consumers):\n",
    "        kwargs = {\n",
    "            'genre_preference': {genre: 10 for genre in GENRES},\n",
    "            'status': status(),\n",
    "            'motivation': random.uniform(0, 10, precision=1),\n",
    "            'consume_type': consumer_type(),\n",
    "            # 'can_view': ,\n",
    "            'richness': richness(minimum=1, maximum=10),\n",
    "            'busyness': random.uniform(0, 10, precision=1),\n",
    "        }\n",
    "       \n",
    "        yield Consumer(**kwargs)\n",
    "    \n",
    "\n",
    "def generate_movies(n_movies: int, min_cost: int = MIN_COST, max_cost: int = MAX_COST) -> Generator[Movie, None, None]:\n",
    "    genre = provider.product.genre\n",
    "    target = provider.product.target\n",
    "    price = provider.finance.price\n",
    "    randint = provider.random.randint\n",
    "    title = provider.text.title\n",
    "    \n",
    "    for _ in range(n_movies):\n",
    "        kwargs = {\n",
    "            'genre': genre(),\n",
    "            'target': target(),\n",
    "            # 宣伝費(単位：百万)は、1 以上 100 以下\n",
    "            'promo_cost': int(price(minimum=min_cost, maximum=max_cost)),\n",
    "            # 公開日は初日から最終日の100日前まで（今は400日間）\n",
    "            'bloadcast_day': randint(0, 300),\n",
    "            'title': title(),\n",
    "        }\n",
    "        \n",
    "        yield Movie(**kwargs)"
   ]
  },
  {
   "cell_type": "code",
   "execution_count": 100,
   "id": "comic-upset",
   "metadata": {},
   "outputs": [],
   "source": [
    "n_consumers = 500\n",
    "consumers = list(generate_consumers(n_consumers))\n",
    "\n",
    "# view information of consumers\n",
    "# for consumer in consumers:\n",
    "#     print(f\"status: {consumer.status}, consume_type: {consumer.consume_type}\")"
   ]
  },
  {
   "cell_type": "code",
   "execution_count": 106,
   "id": "preceding-client",
   "metadata": {},
   "outputs": [
    {
     "data": {
      "image/png": "[encoded data removed]",
      "text/plain": [
       "<Figure size 936x720 with 1 Axes>"
      ]
     },
     "metadata": {
      "needs_background": "light"
     },
     "output_type": "display_data"
    }
   ],
   "source": [
    "statuses = [consumer.status for consumer in consumers]\n",
    "types = [consumer.consume_type for consumer in consumers]\n",
    "\n",
    "plt.figure(figsize=(13, 10))\n",
    "plt.hist(statuses, label='status')\n",
    "plt.hist(types, label='consume_type')\n",
    "plt.legend()\n",
    "plt.show()"
   ]
  },
  {
   "cell_type": "code",
   "execution_count": 87,
   "id": "deluxe-balloon",
   "metadata": {},
   "outputs": [],
   "source": [
    "n_movies = 100\n",
    "movies = list(generate_movies(n_movies))\n",
    "\n",
    "# view information of moives\n",
    "# for movie in movies:\n",
    "#     print(f\"genre: {movie.genre}, target: {movie.target}, bloadcast_day: {movie.bloadcast_day}\")"
   ]
  },
  {
   "cell_type": "code",
   "execution_count": 107,
   "id": "threatened-stomach",
   "metadata": {
    "scrolled": true
   },
   "outputs": [
    {
     "data": {
      "image/png": "[encoded data removed]",
      "text/plain": [
       "<Figure size 936x720 with 1 Axes>"
      ]
     },
     "metadata": {
      "needs_background": "light"
     },
     "output_type": "display_data"
    }
   ],
   "source": [
    "genres = [movie.genre for movie in movies]\n",
    "\n",
    "plt.figure(figsize=(13, 10))\n",
    "plt.hist(genres)\n",
    "plt.show()"
   ]
  },
  {
   "cell_type": "markdown",
   "id": "endless-functionality",
   "metadata": {},
   "source": [
    "## **属性間の依存関係を踏まえると、ベイジアンネットワークによるダミーデータの生成も考えられる**\n",
    "## **ベイジアンネットワークじゃなくても、依存関係を考慮したデータ生成器を開発するのもありかもしれない**"
   ]
  },
  {
   "cell_type": "markdown",
   "id": "underlying-study",
   "metadata": {},
   "source": [
    "[ベイジアンネットワークの条件付きサンプリングの参考になるかもしれない](https://vigne-cla.com/24-3/)"
   ]
  }
 ],
 "metadata": {
  "kernelspec": {
   "display_name": "Python 3",
   "language": "python",
   "name": "python3"
  },
  "language_info": {
   "codemirror_mode": {
    "name": "ipython",
    "version": 3
   },
   "file_extension": ".py",
   "mimetype": "text/x-python",
   "name": "python",
   "nbconvert_exporter": "python",
   "pygments_lexer": "ipython3",
   "version": "3.9.9"
  }
 },
 "nbformat": 4,
 "nbformat_minor": 5
}
